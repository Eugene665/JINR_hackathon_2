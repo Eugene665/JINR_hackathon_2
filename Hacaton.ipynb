{
 "cells": [
  {
   "cell_type": "code",
   "execution_count": 2,
   "id": "1b7afda0-7856-49fd-945c-b11a6aea3b15",
   "metadata": {},
   "outputs": [],
   "source": [
    "import pandas as pd"
   ]
  },
  {
   "cell_type": "code",
   "execution_count": 3,
   "id": "d3c133a2-a86f-4009-bea9-b95c0051497c",
   "metadata": {},
   "outputs": [],
   "source": [
    "df = pd.read_csv('april 4.csv')\n"
   ]
  },
  {
   "cell_type": "code",
   "execution_count": 22,
   "id": "a43ca7f4-7682-4e41-853a-03954eb64f4f",
   "metadata": {},
   "outputs": [
    {
     "name": "stdout",
     "output_type": "stream",
     "text": [
      "Index(['Автор (ы)', 'Author full names', 'Идентификатор автора(ов)',\n",
      "       'Название документа', 'Год', 'Название источника', 'Том', 'Выпуск',\n",
      "       'Статья №', 'Страница начала', 'Страница окончания',\n",
      "       'Количество страниц', 'Цитирования', 'DOI', 'Ссылка', 'Организации',\n",
      "       'Авторы организаций', 'Краткое описание', 'Ключевые слова автора',\n",
      "       'Ключевые слова указателя', 'Номера молекулярных последовательностей',\n",
      "       'Химические вещества/CAS', 'Фирменные наименования', 'Производители',\n",
      "       'Сведения о финансировании', 'Текст о финансировании',\n",
      "       'Пристатейные ссылки', 'Адрес для корреспонденции', 'Редакторы',\n",
      "       'Издатель', 'Спонсоры', 'Название конференции', 'Дата конференции',\n",
      "       'Место проведения конференции', 'Код конференции', 'ISSN', 'ISBN',\n",
      "       'CODEN', 'Идентификатор PubMed', 'Язык оригинального документа',\n",
      "       'Сокращенное название источника', 'Тип документа', 'СТАДИЯ ПУБЛИКАЦИИ',\n",
      "       'Open Access (открытый доступ)', 'Источник', 'EID'],\n",
      "      dtype='object')\n"
     ]
    }
   ],
   "source": [
    "print (df.columns)"
   ]
  },
  {
   "cell_type": "code",
   "execution_count": 47,
   "id": "9e5691a4-2f8e-4b57-a08f-09d477c1de19",
   "metadata": {},
   "outputs": [],
   "source": [
    "need_columns = ['Идентификатор автора(ов)', 'Год','Цитирования','Организации','Краткое описание','Ключевые слова автора',\n",
    "                'Ключевые слова указателя','Сведения о финансировании','Издатель']\n",
    "df_filtered_1 = df[need_columns]"
   ]
  },
  {
   "cell_type": "code",
   "execution_count": 97,
   "id": "4d1a1d62-c4a0-44fc-83f3-fb8b24d74945",
   "metadata": {},
   "outputs": [],
   "source": [
    "needed_words = ['high energy', 'quantum', 'particle physics', 'accelerator', 'collider experiments', 'hadron collider',\n",
    "           'quantum field theory', 'quarks', 'higgs boson', 'standard Model', 'LHC', 'leptons', 'neutrinos', 'accelerators', 'dark matter', 'CP violation',\n",
    "           'high energy physics', 'collider', 'supersymmetry', 'gluons', 'string theory', 'quantum chromodynamics (QCD)','electroweak interaction','heavy-ion collisions',\n",
    "            'grand unified theory', 'cosmic rays', 'muon']"
   ]
  },
  {
   "cell_type": "code",
   "execution_count": 99,
   "id": "efc0a230-128d-470a-90a6-6262d4ed6de6",
   "metadata": {},
   "outputs": [],
   "source": [
    "def contains_needed_words(row):\n",
    "    # Преобразуем каждое значение в строке в строку и объединяем\n",
    "    text = ' '.join(row.astype(str))\n",
    "    # Проверяем на наличие хотя бы одного нужного слова\n",
    "    return any(word.lower() in text for word in needed_words)"
   ]
  },
  {
   "cell_type": "code",
   "execution_count": 139,
   "id": "8c7937af-1da7-40a5-a2d7-0bd4b7d595e5",
   "metadata": {},
   "outputs": [],
   "source": [
    "\n",
    "# Применяем функцию и фильтруем DataFrame\n",
    "df_filtered_2 = df_filtered_1[df_filtered_1.apply(contains_needed_words, axis=1)].copy()"
   ]
  },
  {
   "cell_type": "code",
   "execution_count": 131,
   "id": "e6a5f4c4-d4b7-4923-945d-8d04b49b3c3d",
   "metadata": {},
   "outputs": [
    {
     "name": "stdout",
     "output_type": "stream",
     "text": [
      "421\n"
     ]
    }
   ],
   "source": [
    "print (df_filtered_2.shape[0])"
   ]
  },
  {
   "cell_type": "code",
   "execution_count": 64,
   "id": "b39b0c90-f832-49fc-9ccd-bb94065bd584",
   "metadata": {},
   "outputs": [
    {
     "name": "stdout",
     "output_type": "stream",
     "text": [
      "3747\n"
     ]
    }
   ],
   "source": [
    "print (df_filtered_1.shape[0])"
   ]
  },
  {
   "cell_type": "code",
   "execution_count": 142,
   "id": "ff2b5ca4-8ef5-43f6-80a7-568bbeff1d66",
   "metadata": {},
   "outputs": [
    {
     "name": "stdout",
     "output_type": "stream",
     "text": [
      "                                          Organization  Count\n",
      "0                                Department of Physics     41\n",
      "1                                    School of Physics     18\n",
      "2                                    School of Science      7\n",
      "3       State Key Laboratory of Precision Spectroscopy      5\n",
      "4                     Institute of High Energy Physics      5\n",
      "..                                                 ...    ...\n",
      "276                  Guo China-US Photonics Laboratory      1\n",
      "277     Kavli Institute for Astronomy and Astrophysics      1\n",
      "278   Department of Electronic Information Engineering      1\n",
      "279  Key Laboratory of Opto-electronic Information ...      1\n",
      "280                            Physikalisches Institut      1\n",
      "\n",
      "[281 rows x 2 columns]\n"
     ]
    }
   ],
   "source": [
    "\n",
    "# Разбиваем строку по первой запятой\n",
    "df_filtered_2['Организации'] = df_filtered_2['Организации'].str.split(',', n=1, expand=True)[0]\n",
    "\n",
    "# Далее выполняем взрыв и подсчет\n",
    "organizations = df_filtered_2.explode('Организации')['Организации'].str.strip()\n",
    "\n",
    "# Подсчитываем количество упоминаний каждой организации\n",
    "counts = organizations.value_counts()\n",
    "\n",
    "# Преобразуем в DataFrame для удобства\n",
    "result = counts.reset_index()\n",
    "result.columns = ['Organization', 'Count']\n",
    "\n",
    "# Выводим результат\n",
    "print(result)"
   ]
  },
  {
   "cell_type": "code",
   "execution_count": 137,
   "id": "476f4d25-8208-401a-9c1f-527b43bf5fe6",
   "metadata": {},
   "outputs": [
    {
     "name": "stdout",
     "output_type": "stream",
     "text": [
      "3                                 Department of Physics\n",
      "3                                     School of Science\n",
      "3                                    Tianjin University\n",
      "3                                       Yaguan Road 135\n",
      "3                                       Jinnan District\n",
      "                             ...                       \n",
      "3746    School of Electrical and Electronic Engineering\n",
      "3746                   Nanyang Technological University\n",
      "3746                                          Singapore\n",
      "3746                                             639798\n",
      "3746                                          Singapore\n",
      "Name: Организации, Length: 12415, dtype: object\n"
     ]
    }
   ],
   "source": [
    "#список организаций\n",
    "#ГРАФИК ПО ПУБЛИКАЦИЯМ\n",
    "print (organizations)"
   ]
  }
 ],
 "metadata": {
  "kernelspec": {
   "display_name": "Python 3 (ipykernel)",
   "language": "python",
   "name": "python3"
  },
  "language_info": {
   "codemirror_mode": {
    "name": "ipython",
    "version": 3
   },
   "file_extension": ".py",
   "mimetype": "text/x-python",
   "name": "python",
   "nbconvert_exporter": "python",
   "pygments_lexer": "ipython3",
   "version": "3.13.0"
  }
 },
 "nbformat": 4,
 "nbformat_minor": 5
}
