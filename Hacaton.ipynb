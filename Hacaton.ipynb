{
 "cells": [
  {
   "cell_type": "code",
   "execution_count": 2,
   "id": "1b7afda0-7856-49fd-945c-b11a6aea3b15",
   "metadata": {},
   "outputs": [],
   "source": [
    "import pandas as pd"
   ]
  },
  {
   "cell_type": "code",
   "execution_count": 3,
   "id": "d3c133a2-a86f-4009-bea9-b95c0051497c",
   "metadata": {},
   "outputs": [],
   "source": [
    "df = pd.read_csv('april 4.csv')\n"
   ]
  },
  {
   "cell_type": "code",
   "execution_count": 22,
   "id": "a43ca7f4-7682-4e41-853a-03954eb64f4f",
   "metadata": {},
   "outputs": [
    {
     "name": "stdout",
     "output_type": "stream",
     "text": [
      "Index(['Автор (ы)', 'Author full names', 'Идентификатор автора(ов)',\n",
      "       'Название документа', 'Год', 'Название источника', 'Том', 'Выпуск',\n",
      "       'Статья №', 'Страница начала', 'Страница окончания',\n",
      "       'Количество страниц', 'Цитирования', 'DOI', 'Ссылка', 'Организации',\n",
      "       'Авторы организаций', 'Краткое описание', 'Ключевые слова автора',\n",
      "       'Ключевые слова указателя', 'Номера молекулярных последовательностей',\n",
      "       'Химические вещества/CAS', 'Фирменные наименования', 'Производители',\n",
      "       'Сведения о финансировании', 'Текст о финансировании',\n",
      "       'Пристатейные ссылки', 'Адрес для корреспонденции', 'Редакторы',\n",
      "       'Издатель', 'Спонсоры', 'Название конференции', 'Дата конференции',\n",
      "       'Место проведения конференции', 'Код конференции', 'ISSN', 'ISBN',\n",
      "       'CODEN', 'Идентификатор PubMed', 'Язык оригинального документа',\n",
      "       'Сокращенное название источника', 'Тип документа', 'СТАДИЯ ПУБЛИКАЦИИ',\n",
      "       'Open Access (открытый доступ)', 'Источник', 'EID'],\n",
      "      dtype='object')\n"
     ]
    }
   ],
   "source": [
    "print (df.columns)"
   ]
  },
  {
   "cell_type": "code",
   "execution_count": 47,
   "id": "9e5691a4-2f8e-4b57-a08f-09d477c1de19",
   "metadata": {},
   "outputs": [],
   "source": [
    "need_columns = ['Идентификатор автора(ов)', 'Год','Цитирования','Организации','Краткое описание','Ключевые слова автора',\n",
    "                'Ключевые слова указателя','Сведения о финансировании','Издатель']\n",
    "df_filtered_1 = df[need_columns]"
   ]
  },
  {
   "cell_type": "code",
   "execution_count": 97,
   "id": "4d1a1d62-c4a0-44fc-83f3-fb8b24d74945",
   "metadata": {},
   "outputs": [],
   "source": [
    "needed_words = ['high energy', 'quantum', 'particle physics', 'accelerator', 'collider experiments', 'hadron collider',\n",
    "           'quantum field theory', 'quarks', 'higgs boson', 'standard Model', 'LHC', 'leptons', 'neutrinos', 'accelerators', 'dark matter', 'CP violation',\n",
    "           'high energy physics', 'collider', 'supersymmetry', 'gluons', 'string theory', 'quantum chromodynamics (QCD)','electroweak interaction','heavy-ion collisions',\n",
    "            'grand unified theory', 'cosmic rays', 'muon']"
   ]
  },
  {
   "cell_type": "code",
   "execution_count": 99,
   "id": "efc0a230-128d-470a-90a6-6262d4ed6de6",
   "metadata": {},
   "outputs": [],
   "source": [
    "def contains_needed_words(row):\n",
    "    # Преобразуем каждое значение в строке в строку и объединяем\n",
    "    text = ' '.join(row.astype(str))\n",
    "    # Проверяем на наличие хотя бы одного нужного слова\n",
    "    return any(word.lower() in text for word in needed_words)"
   ]
  },
  {
   "cell_type": "code",
   "execution_count": 100,
   "id": "8c7937af-1da7-40a5-a2d7-0bd4b7d595e5",
   "metadata": {},
   "outputs": [],
   "source": [
    "\n",
    "# Применяем функцию и фильтруем DataFrame\n",
    "df_filtered_2 = df_filtered_1[df_filtered_1.apply(contains_needed_words, axis=1)]"
   ]
  },
  {
   "cell_type": "code",
   "execution_count": 101,
   "id": "e6a5f4c4-d4b7-4923-945d-8d04b49b3c3d",
   "metadata": {},
   "outputs": [
    {
     "name": "stdout",
     "output_type": "stream",
     "text": [
      "421\n"
     ]
    }
   ],
   "source": [
    "print (df_filtered_2.shape[0])"
   ]
  },
  {
   "cell_type": "code",
   "execution_count": 64,
   "id": "b39b0c90-f832-49fc-9ccd-bb94065bd584",
   "metadata": {},
   "outputs": [
    {
     "name": "stdout",
     "output_type": "stream",
     "text": [
      "3747\n"
     ]
    }
   ],
   "source": [
    "print (df_filtered_1.shape[0])"
   ]
  },
  {
   "cell_type": "code",
   "execution_count": 94,
   "id": "ff2b5ca4-8ef5-43f6-80a7-568bbeff1d66",
   "metadata": {},
   "outputs": [
    {
     "name": "stdout",
     "output_type": "stream",
     "text": [
      "30\n"
     ]
    }
   ],
   "source": [
    "print(len(needed_words))"
   ]
  },
  {
   "cell_type": "code",
   "execution_count": 103,
   "id": "476f4d25-8208-401a-9c1f-527b43bf5fe6",
   "metadata": {},
   "outputs": [],
   "source": [
    "#список организаций\n",
    "#ГРАФИК ПО ПУБЛИКАЦИЯМ"
   ]
  },
  {
   "cell_type": "code",
   "execution_count": 96,
   "id": "056a0a69-eda4-4c2c-bd13-7c70f7232973",
   "metadata": {},
   "outputs": [
    {
     "name": "stdout",
     "output_type": "stream",
     "text": [
      "Количество нужных слов в датасете: 2\n"
     ]
    }
   ],
   "source": [
    "import numpy as np\n",
    "\n",
    "# Пример массива строк\n",
    "row = np.array([\"Привет\", \"как\", \"твои\", \"дела\", \"Дела\", \"хорошо\", \"как\", \"твои\", \"дела\"])\n",
    "\n",
    "# Определяем список нужных слов\n",
    "needed_words = ['привет', 'мир', 'дела']\n",
    "\n",
    "def count_needed_words(row, needed_words):\n",
    "    # Преобразуем каждое значение в строке в строку и объединяем\n",
    "    text = ' '.join(row.astype(str))\n",
    "    \n",
    "    # Разделяем текст на слова и создаем множество для уникальности\n",
    "    words_in_text = set(text.lower().split())\n",
    "    \n",
    "    # Подсчитываем количество нужных слов, которые есть в тексте\n",
    "    count = sum(1 for word in needed_words if word.lower() in words_in_text)\n",
    "\n",
    "    # Возвращаем количество нужных слов\n",
    "    return count\n",
    "\n",
    "# Вызов функции и печать результата\n",
    "count_of_needed_words = count_needed_words(row, needed_words)\n",
    "print(f\"Количество нужных слов в датасете: {count_of_needed_words}\")\n"
   ]
  }
 ],
 "metadata": {
  "kernelspec": {
   "display_name": "Python 3 (ipykernel)",
   "language": "python",
   "name": "python3"
  },
  "language_info": {
   "codemirror_mode": {
    "name": "ipython",
    "version": 3
   },
   "file_extension": ".py",
   "mimetype": "text/x-python",
   "name": "python",
   "nbconvert_exporter": "python",
   "pygments_lexer": "ipython3",
   "version": "3.13.0"
  }
 },
 "nbformat": 4,
 "nbformat_minor": 5
}
